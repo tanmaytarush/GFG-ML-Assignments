{
 "cells": [
  {
   "cell_type": "code",
   "execution_count": 1,
   "id": "26ae2edb",
   "metadata": {},
   "outputs": [
    {
     "data": {
      "text/plain": [
       "'India, officially the Republic of India, is a country in South Asia. It is the seventh-largest country by area, the second-most populous country, and the most populous democracy in the world. Bounded by the Indian Ocean on the south, the Arabian Sea on the southwest, and the Bay of Bengal on the southeast, it shares land borders with Pakistan to the west; China, Nepal, and Bhutan to the north; and Bangladesh and Myanmar to the east. In the Indian Ocean, India is in the vicinity of Sri Lanka and the Maldives; its Andaman and Nicobar Islands share a maritime border with Thailand, Myanmar and Indonesia.'"
      ]
     },
     "execution_count": 1,
     "metadata": {},
     "output_type": "execute_result"
    }
   ],
   "source": [
    "from nltk.tokenize import word_tokenize, sent_tokenize\n",
    "from nltk.corpus import stopwords\n",
    "\n",
    "corpus = 'India, officially the Republic of India, is a country in South Asia. It is the seventh-largest country by area, the second-most populous country, and the most populous democracy in the world. Bounded by the Indian Ocean on the south, the Arabian Sea on the southwest, and the Bay of Bengal on the southeast, it shares land borders with Pakistan to the west; China, Nepal, and Bhutan to the north; and Bangladesh and Myanmar to the east. In the Indian Ocean, India is in the vicinity of Sri Lanka and the Maldives; its Andaman and Nicobar Islands share a maritime border with Thailand, Myanmar and Indonesia.'\n",
    "corpus"
   ]
  },
  {
   "cell_type": "markdown",
   "id": "2f70db80",
   "metadata": {},
   "source": [
    "## Stop Word Removal"
   ]
  },
  {
   "cell_type": "code",
   "execution_count": 11,
   "id": "bd7b8501",
   "metadata": {},
   "outputs": [],
   "source": [
    "words=[]\n",
    "for word in word_tokenize(corpus):\n",
    "    if(word.lower() not in stopwords.words('english')) and (len(word)>=2):\n",
    "        words.append(word.lower())"
   ]
  },
  {
   "cell_type": "code",
   "execution_count": 12,
   "id": "56c9ad3a",
   "metadata": {},
   "outputs": [],
   "source": [
    "vocab=list(set(words))"
   ]
  },
  {
   "cell_type": "code",
   "execution_count": 13,
   "id": "20c86434",
   "metadata": {},
   "outputs": [
    {
     "data": {
      "text/plain": [
       "45"
      ]
     },
     "execution_count": 13,
     "metadata": {},
     "output_type": "execute_result"
    }
   ],
   "source": [
    "len(vocab)"
   ]
  },
  {
   "cell_type": "markdown",
   "id": "8434e30c",
   "metadata": {},
   "source": [
    "## Creating Encoders and Decoders"
   ]
  },
  {
   "cell_type": "code",
   "execution_count": 15,
   "id": "d923304d",
   "metadata": {},
   "outputs": [],
   "source": [
    "num=1\n",
    "word_to_num={}\n",
    "num_to_word={}\n",
    "for word in vocab:\n",
    "    word_to_num[word]=num\n",
    "    num_to_word[word]=word\n",
    "    num+=1"
   ]
  },
  {
   "cell_type": "markdown",
   "id": "ec1d3fde",
   "metadata": {},
   "source": [
    "## Encoding Sentences"
   ]
  },
  {
   "cell_type": "code",
   "execution_count": 18,
   "id": "778ccabc",
   "metadata": {},
   "outputs": [
    {
     "name": "stdout",
     "output_type": "stream",
     "text": [
      "india officially republic india country south asia \n",
      "[30, 14, 39, 30, 34, 3, 36]\n",
      "seventh-largest country area second-most populous country populous democracy world \n",
      "[27, 34, 28, 33, 44, 34, 44, 7, 8]\n",
      "bounded indian ocean south arabian sea southwest bay bengal southeast shares land borders pakistan west china nepal bhutan north bangladesh myanmar east \n",
      "[4, 29, 13, 3, 6, 5, 43, 32, 42, 21, 41, 40, 25, 23, 22, 45, 18, 12, 38, 10, 24, 11]\n",
      "indian ocean india vicinity sri lanka maldives andaman nicobar islands share maritime border thailand myanmar indonesia \n",
      "[29, 13, 30, 16, 9, 2, 35, 37, 26, 31, 19, 15, 1, 20, 24, 17]\n"
     ]
    }
   ],
   "source": [
    "data=[]\n",
    "for sent in sent_tokenize(corpus):\n",
    "    temp=[]\n",
    "    for word in word_tokenize(sent):\n",
    "        if(word.lower() not in stopwords.words('english') and (len(word)>=2)):\n",
    "            print(word.lower(), end=' ')\n",
    "            temp.append(word_to_num[word.lower()])\n",
    "    print()\n",
    "    print(temp)\n",
    "    \n",
    "    data.append(temp)"
   ]
  },
  {
   "cell_type": "markdown",
   "id": "a7ead999",
   "metadata": {},
   "source": [
    "## Decoding Sentences"
   ]
  },
  {
   "cell_type": "code",
   "execution_count": 21,
   "id": "32cad8cc",
   "metadata": {},
   "outputs": [
    {
     "ename": "KeyError",
     "evalue": "30",
     "output_type": "error",
     "traceback": [
      "\u001b[1;31m---------------------------------------------------------------------------\u001b[0m",
      "\u001b[1;31mKeyError\u001b[0m                                  Traceback (most recent call last)",
      "Input \u001b[1;32mIn [21]\u001b[0m, in \u001b[0;36m<cell line: 1>\u001b[1;34m()\u001b[0m\n\u001b[0;32m      1\u001b[0m \u001b[38;5;28;01mfor\u001b[39;00m sent \u001b[38;5;129;01min\u001b[39;00m data:\n\u001b[0;32m      2\u001b[0m     \u001b[38;5;28;01mfor\u001b[39;00m word \u001b[38;5;129;01min\u001b[39;00m sent:\n\u001b[1;32m----> 3\u001b[0m         \u001b[38;5;28mprint\u001b[39m(\u001b[43mnum_to_word\u001b[49m\u001b[43m[\u001b[49m\u001b[43mword\u001b[49m\u001b[43m]\u001b[49m, end\u001b[38;5;241m=\u001b[39m\u001b[38;5;124m'\u001b[39m\u001b[38;5;124m \u001b[39m\u001b[38;5;124m'\u001b[39m)\n\u001b[0;32m      4\u001b[0m     \u001b[38;5;28mprint\u001b[39m()\n",
      "\u001b[1;31mKeyError\u001b[0m: 30"
     ]
    }
   ],
   "source": [
    "for sent in data:\n",
    "    for word in sent:\n",
    "        print(num_to_word[word], end=' ')\n",
    "    print()"
   ]
  }
 ],
 "metadata": {
  "kernelspec": {
   "display_name": "Python 3 (ipykernel)",
   "language": "python",
   "name": "python3"
  },
  "language_info": {
   "codemirror_mode": {
    "name": "ipython",
    "version": 3
   },
   "file_extension": ".py",
   "mimetype": "text/x-python",
   "name": "python",
   "nbconvert_exporter": "python",
   "pygments_lexer": "ipython3",
   "version": "3.9.12"
  }
 },
 "nbformat": 4,
 "nbformat_minor": 5
}
