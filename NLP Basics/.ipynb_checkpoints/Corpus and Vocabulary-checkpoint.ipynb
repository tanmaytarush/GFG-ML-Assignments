{
 "cells": [
  {
   "cell_type": "code",
   "execution_count": 7,
   "id": "9ca74395",
   "metadata": {},
   "outputs": [
    {
     "name": "stderr",
     "output_type": "stream",
     "text": [
      "[nltk_data] Downloading package stopwords to D:\\user\\nltk_data...\n",
      "[nltk_data]   Unzipping corpora\\stopwords.zip.\n"
     ]
    },
    {
     "data": {
      "text/plain": [
       "'India, officially the Republic of India, is a country in South Asia. It is the seventh-largest country by area,the second-most populous country, and the most populous democracy in the world. Bounded by the Indian Ocean on the south, the Arabian Sea on the southwest, and the Bay of Bengal on the southeast, it shares land borders with Pakistan to the west; China, Nepal, and Bhutan to the north; and Bangladesh and Myanmar to the east. In the Indian Ocean, India is in the vicinity of Sri Lanka and the Maldives; its Andaman and Nicobar Islands share a maritime border with Thailand, Myanmar and Indonesia.'"
      ]
     },
     "execution_count": 7,
     "metadata": {},
     "output_type": "execute_result"
    }
   ],
   "source": [
    "from nltk.tokenize import word_tokenize, sent_tokenize\n",
    "from nltk.corpus import stopwords\n",
    "\n",
    "import nltk\n",
    "nltk.download('stopwords')\n",
    "\n",
    "corpus = 'India, officially the Republic of India, is a country in South Asia. It is the seventh-largest country by area,the second-most populous country, and the most populous democracy in the world. Bounded by the Indian Ocean on the south, the Arabian Sea on the southwest, and the Bay of Bengal on the southeast, it shares land borders with Pakistan to the west; China, Nepal, and Bhutan to the north; and Bangladesh and Myanmar to the east. In the Indian Ocean, India is in the vicinity of Sri Lanka and the Maldives; its Andaman and Nicobar Islands share a maritime border with Thailand, Myanmar and Indonesia.'\n",
    "corpus"
   ]
  },
  {
   "cell_type": "markdown",
   "id": "1d831cdc",
   "metadata": {},
   "source": [
    "## Stop Words Removal"
   ]
  },
  {
   "cell_type": "code",
   "execution_count": 8,
   "id": "78694a1b",
   "metadata": {},
   "outputs": [],
   "source": [
    "words=[]\n",
    "for word in word_tokenize(corpus):\n",
    "    if (word.lower() not in stopwords.words('english')) and (len(word)>=2):\n",
    "        words.append(word.lower())"
   ]
  },
  {
   "cell_type": "code",
   "execution_count": 9,
   "id": "3575fe4a",
   "metadata": {},
   "outputs": [],
   "source": [
    "vocab=list(set(words))"
   ]
  },
  {
   "cell_type": "code",
   "execution_count": 11,
   "id": "14f54ba1",
   "metadata": {},
   "outputs": [
    {
     "data": {
      "text/plain": [
       "['lanka',\n",
       " 'sri',\n",
       " 'maldives',\n",
       " 'democracy',\n",
       " 'arabian',\n",
       " 'land',\n",
       " 'bengal',\n",
       " 'world',\n",
       " 'sea',\n",
       " 'nicobar',\n",
       " 'thailand',\n",
       " 'indian',\n",
       " 'border',\n",
       " 'southeast',\n",
       " 'china',\n",
       " 'republic',\n",
       " 'area',\n",
       " 'india',\n",
       " 'share',\n",
       " 'south',\n",
       " 'officially',\n",
       " 'populous',\n",
       " 'north',\n",
       " 'ocean',\n",
       " 'shares',\n",
       " 'maritime',\n",
       " 'asia',\n",
       " 'second-most',\n",
       " 'andaman',\n",
       " 'myanmar',\n",
       " 'bounded',\n",
       " 'islands',\n",
       " 'borders',\n",
       " 'indonesia',\n",
       " 'country',\n",
       " 'bhutan',\n",
       " 'east',\n",
       " 'west',\n",
       " 'nepal',\n",
       " 'bangladesh',\n",
       " 'vicinity',\n",
       " 'bay',\n",
       " 'seventh-largest',\n",
       " 'pakistan',\n",
       " 'southwest']"
      ]
     },
     "execution_count": 11,
     "metadata": {},
     "output_type": "execute_result"
    }
   ],
   "source": [
    "vocab"
   ]
  },
  {
   "cell_type": "code",
   "execution_count": 12,
   "id": "f48d96b4",
   "metadata": {},
   "outputs": [
    {
     "name": "stdout",
     "output_type": "stream",
     "text": [
      "India, officially the Republic of India, is a country in South Asia.\n",
      "It is the seventh-largest country by area,the second-most populous country, and the most populous democracy in the world.\n",
      "Bounded by the Indian Ocean on the south, the Arabian Sea on the southwest, and the Bay of Bengal on the southeast, it shares land borders with Pakistan to the west; China, Nepal, and Bhutan to the north; and Bangladesh and Myanmar to the east.\n",
      "In the Indian Ocean, India is in the vicinity of Sri Lanka and the Maldives; its Andaman and Nicobar Islands share a maritime border with Thailand, Myanmar and Indonesia.\n"
     ]
    }
   ],
   "source": [
    "for sent in sent_tokenize(corpus):\n",
    "    print(sent)"
   ]
  }
 ],
 "metadata": {
  "kernelspec": {
   "display_name": "Python 3 (ipykernel)",
   "language": "python",
   "name": "python3"
  },
  "language_info": {
   "codemirror_mode": {
    "name": "ipython",
    "version": 3
   },
   "file_extension": ".py",
   "mimetype": "text/x-python",
   "name": "python",
   "nbconvert_exporter": "python",
   "pygments_lexer": "ipython3",
   "version": "3.9.12"
  }
 },
 "nbformat": 4,
 "nbformat_minor": 5
}
